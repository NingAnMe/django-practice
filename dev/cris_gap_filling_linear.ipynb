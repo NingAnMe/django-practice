{
 "cells": [
  {
   "cell_type": "code",
   "execution_count": 1,
   "metadata": {},
   "outputs": [
    {
     "name": "stderr",
     "output_type": "stream",
     "text": [
      "/home/cali/bin/anaconda3/lib/python3.6/site-packages/sklearn/externals/joblib/_multiprocessing_helpers.py:38: UserWarning: [Errno 13] Permission denied.  joblib will operate in serial mode\n",
      "  warnings.warn('%s.  joblib will operate in serial mode' % (e,))\n"
     ]
    }
   ],
   "source": [
    "import os\n",
    "\n",
    "import numpy as np\n",
    "import pandas as pd\n",
    "import matplotlib\n",
    "import matplotlib.pyplot as plt\n",
    "import sklearn\n",
    "import h5py\n",
    "\n",
    "from sklearn.model_selection import train_test_split\n",
    "from sklearn.linear_model import LinearRegression\n",
    "from sklearn.metrics import mean_absolute_error\n",
    "\n",
    "\n",
    "from plot import PlotAx, STYLE_PATH\n",
    "from util import rad2tbb, get_cris_full_train_data, get_range_index\n",
    "\n",
    "%matplotlib inline"
   ]
  },
  {
   "cell_type": "markdown",
   "metadata": {},
   "source": [
    "获取文件"
   ]
  },
  {
   "cell_type": "code",
   "execution_count": 2,
   "metadata": {},
   "outputs": [],
   "source": [
    "in_dir = '/home/cali/data/GapFilling/CRISFull/'\n",
    "filenames = os.listdir(in_dir)\n",
    "in_files = [os.path.join(in_dir, filename) for filename in filenames]\n",
    "in_files.sort()"
   ]
  },
  {
   "cell_type": "markdown",
   "metadata": {},
   "source": [
    "读取全部数据，并且去除无效数据"
   ]
  },
  {
   "cell_type": "code",
   "execution_count": 79,
   "metadata": {},
   "outputs": [
    {
     "name": "stdout",
     "output_type": "stream",
     "text": [
      "(802200, 3369)\n",
      "(687852, 3369)\n"
     ]
    }
   ],
   "source": [
    "sample_count = None  # None 读取全部\n",
    "all_X, all_Y = get_cris_full_train_data(in_files, count=sample_count)\n",
    "\n",
    "_col_x = X.shape[1]\n",
    "\n",
    "# 去除无效数据\n",
    "XY = pd.concat([all_X, all_Y], axis=1)\n",
    "XY = XY.astype('float32')\n",
    "print(XY.shape)\n",
    "XY[XY <= 0] = np.nan\n",
    "XY = XY.dropna(axis=0)\n",
    "print(XY.shape)\n",
    "\n",
    "all_X = XY.iloc[:, :_col_x]\n",
    "all_Y = XY.iloc[:, _col_x:]\n",
    "del XY"
   ]
  },
  {
   "cell_type": "markdown",
   "metadata": {},
   "source": [
    "设置测量通道和预测通道的波数范围"
   ]
  },
  {
   "cell_type": "code",
   "execution_count": 69,
   "metadata": {},
   "outputs": [],
   "source": [
    "FREQUENCY_INTERVAL = 0.625\n",
    "RANGES_ALL_X = [(650., 1095.), (1210., 1750.), (2155., 2550.), ]\n",
    "RANGES_ALL_Y = [(1095.625, 1209.375), (1750.625, 2154.375), (2550.625, 2755.), ]\n",
    "\n",
    "# ranges_X = [(650., 1095.), (1210., 1750.), (2155., 2550.), ]\n",
    "# ranges_X = [(650., 1095), ]\n",
    "ranges_X = [(1210., 1750), ]\n",
    "# ranges_X = [(2155., 2550.), ]\n",
    "\n",
    "# ranges_Y = [(1095.625, 1209.375), (1750.625, 2154.375), (2550.625, 2755.), ]\n",
    "# ranges_Y = [(1095.625, 1209.375), ]\n",
    "ranges_Y = [(1750.625, 2154.375), ]\n",
    "# ranges_Y = [(2550.625, 2755.), ]"
   ]
  },
  {
   "cell_type": "code",
   "execution_count": 70,
   "metadata": {},
   "outputs": [
    {
     "name": "stdout",
     "output_type": "stream",
     "text": [
      "[[0, 865]]\n",
      "[[0, 647]]\n"
     ]
    }
   ],
   "source": [
    "# 制作绘图用的X轴数据\n",
    "wavenumber_X = []\n",
    "for s, e in ranges_X:\n",
    "    wavenumber_X = np.append(wavenumber_X, np.arange(s, e + FREQUENCY_INTERVAL, FREQUENCY_INTERVAL))\n",
    "wavenumber_Y = []\n",
    "for s, e in ranges_Y:\n",
    "    wavenumber_Y = np.append(wavenumber_Y, np.arange(s, e + FREQUENCY_INTERVAL, FREQUENCY_INTERVAL))\n",
    "    \n",
    "# 制作绘图用的X轴数据的index\n",
    "from util import get_range_index\n",
    "index_X = get_range_index(ranges_X, step=FREQUENCY_INTERVAL)\n",
    "index_Y = get_range_index(ranges_Y, step=FREQUENCY_INTERVAL)\n",
    "print(index_X)\n",
    "print(index_Y)"
   ]
  },
  {
   "cell_type": "code",
   "execution_count": 71,
   "metadata": {},
   "outputs": [],
   "source": [
    "X = None\n",
    "Y = None\n",
    "\n",
    "index_XY = get_range_index(ranges_Y, step=FREQUENCY_INTERVAL)\n",
    "\n",
    "for _s, _e in index_X:\n",
    "    _X = all_X.iloc[:, _s:_e]\n",
    "    if X is None:\n",
    "        X = _X\n",
    "    else:\n",
    "        X = pd.concat([X, _X], axis=1)\n",
    "for _s, _e in index_Y:\n",
    "    _Y = all_Y.iloc[:, _s:_e]\n",
    "    if Y is None:\n",
    "        Y = _Y\n",
    "    else:\n",
    "        Y = pd.concat([Y, _Y], axis=1)"
   ]
  },
  {
   "cell_type": "code",
   "execution_count": 72,
   "metadata": {},
   "outputs": [
    {
     "name": "stdout",
     "output_type": "stream",
     "text": [
      "<class 'pandas.core.frame.DataFrame'>\n",
      "Int64Index: 687852 entries, 0 to 802198\n",
      "Columns: 865 entries, 0 to 864\n",
      "dtypes: float32(865)\n",
      "memory usage: 2.2 GB\n"
     ]
    }
   ],
   "source": [
    "X.info()"
   ]
  },
  {
   "cell_type": "code",
   "execution_count": 73,
   "metadata": {},
   "outputs": [
    {
     "name": "stdout",
     "output_type": "stream",
     "text": [
      "<class 'pandas.core.frame.DataFrame'>\n",
      "Int64Index: 687852 entries, 0 to 802198\n",
      "Columns: 647 entries, 0 to 646\n",
      "dtypes: float32(647)\n",
      "memory usage: 1.7 GB\n"
     ]
    }
   ],
   "source": [
    "Y.info()"
   ]
  },
  {
   "cell_type": "code",
   "execution_count": 74,
   "metadata": {},
   "outputs": [],
   "source": [
    "train_X, test_X, train_Y, test_Y = train_test_split(X, Y, random_state = 42, test_size=0.2)\n",
    "train_X = pd.DataFrame(train_X)\n",
    "test_X = pd.DataFrame(test_X)\n",
    "train_Y = pd.DataFrame(train_Y)\n",
    "test_Y = pd.DataFrame(test_Y)"
   ]
  },
  {
   "cell_type": "code",
   "execution_count": null,
   "metadata": {},
   "outputs": [],
   "source": []
  },
  {
   "cell_type": "code",
   "execution_count": 75,
   "metadata": {},
   "outputs": [
    {
     "name": "stdout",
     "output_type": "stream",
     "text": [
      "0.0022338834\n"
     ]
    }
   ],
   "source": [
    "lin_reg = LinearRegression(normalize=False)\n",
    "lin_reg.fit(train_X, train_Y)\n",
    "\n",
    "predictions_Y = lin_reg.predict(test_X)\n",
    "\n",
    "print(mean_absolute_error(test_Y, predictions_Y))"
   ]
  },
  {
   "cell_type": "markdown",
   "metadata": {},
   "source": [
    "绘制 TBB Bias Mean 和 TBB Bias Std"
   ]
  },
  {
   "cell_type": "code",
   "execution_count": 76,
   "metadata": {},
   "outputs": [],
   "source": [
    "# test_rad = test_Y\n",
    "# prediction_rad = predictions_Y\n",
    "# prediction_rad = pd.DataFrame(prediction_rad)\n",
    "\n",
    "# rad_col = test_rad.shape[1]\n",
    "\n",
    "# all_rad = pd.concat((test_rad, prediction_rad), axis=1)\n",
    "# print(all_rad.shape)\n",
    "# all_rad[all_rad<=0] = np.nan\n",
    "# all_rad = all_rad.dropna(axis=0)\n",
    "# print(all_rad.shape)\n",
    "\n",
    "# test_rad = all_rad.iloc[:, :rad_col]\n",
    "# prediction_rad = all_rad.iloc[:, rad_col:]"
   ]
  },
  {
   "cell_type": "code",
   "execution_count": 77,
   "metadata": {},
   "outputs": [],
   "source": [
    "test_rad = np.array(test_Y)\n",
    "prediction_rad = np.array(predictions_Y)\n",
    "\n",
    "test_tbb = rad2tbb(test_rad, wavenumber_Y)\n",
    "prediction_tbb = rad2tbb(prediction_rad, wavenumber_Y)\n",
    "\n",
    "bias_tbb = prediction_tbb - test_tbb"
   ]
  },
  {
   "cell_type": "code",
   "execution_count": 78,
   "metadata": {},
   "outputs": [
    {
     "data": {
      "image/png": "[encoded data removed]",
      "text/plain": [
       "<Figure size 768x360 with 2 Axes>"
      ]
     },
     "metadata": {
      "needs_background": "light"
     },
     "output_type": "display_data"
    }
   ],
   "source": [
    "fig = plt.figure(figsize=(6.4, 3), dpi=120)\n",
    "ax1 = plt.subplot2grid((2, 1), (0, 0))\n",
    "ax2 = plt.subplot2grid((2, 1), (1, 0), sharex=ax1)\n",
    "\n",
    "ax1.plot(wavenumber_Y, bias_tbb.mean(axis=0), lw=0.5)\n",
    "ax1.set_ylim(-0.2, 0.2)\n",
    "ax1.set_xlabel('TBB Bias Mean $(K)$')\n",
    "ax2.plot(wavenumber_Y, bias_tbb.std(axis=0), lw=0.5)\n",
    "# ax2.set_ylim(0, 1)\n",
    "ax2.set_xlabel('Wavenumber $(cm^{-1})$')\n",
    "ax2.set_ylabel('TBB Bias Std $(K)$')\n",
    "\n",
    "plt.setp(ax1.get_xticklabels(), visible=False)\n",
    "plt.tight_layout()"
   ]
  },
  {
   "cell_type": "code",
   "execution_count": null,
   "metadata": {},
   "outputs": [],
   "source": []
  }
 ],
 "metadata": {
  "kernelspec": {
   "display_name": "Python 3",
   "language": "python",
   "name": "python3"
  },
  "language_info": {
   "codemirror_mode": {
    "name": "ipython",
    "version": 3
   },
   "file_extension": ".py",
   "mimetype": "text/x-python",
   "name": "python",
   "nbconvert_exporter": "python",
   "pygments_lexer": "ipython3",
   "version": "3.6.8"
  }
 },
 "nbformat": 4,
 "nbformat_minor": 2
}
